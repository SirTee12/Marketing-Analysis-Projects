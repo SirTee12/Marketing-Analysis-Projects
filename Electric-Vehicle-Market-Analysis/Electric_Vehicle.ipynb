{
 "cells": [
  {
   "cell_type": "markdown",
   "id": "62c5eb81",
   "metadata": {},
   "source": [
    "# Electric Vehicles Market Size Analysis\n",
    "\n",
    "Market size analysis for electric vehicles involves a multi-step process that includes defining the market scope, collecting and preparing data, analytical modelling, and communicating findings through visualization and reporting. Below is the process you can follow for the task of electric vehicles market size analysis:\n",
    "\n",
    "+ Define whether the analysis is global, regional, or focused on specific countries.\n",
    "+ Gather information from industry associations, market research firms (e.g., BloombergNEF, IEA), and government publications relevant to the EV market.\n",
    "+ Use historical data to identify trends in EV sales, production, and market.\n",
    "+ Analyze the market size and growth rates for different EV segments.\n",
    "Based on the market size analysis, provide strategic recommendations for businesses looking to enter or expand in the EV market."
   ]
  },
  {
   "cell_type": "markdown",
   "id": "50aa2c7e",
   "metadata": {},
   "source": [
    "The provided dataset contains the following columns, each representing different aspects of the electric vehicle (EV) population in the United States:\n",
    "\n",
    "+ VIN (1-10): Partial Vehicle Identification Number.\n",
    "+County: The county in which the vehicle is registered.\n",
    "+ City: The city in which the vehicle is registered.\n",
    "+ State: The state in which the vehicle is registered. It appears that this dataset may be focused on Washington (WA) state.\n",
    "+ Postal Code: The postal code where the vehicle is registered.\n",
    "+ Model Year: The year of the vehicle model.\n",
    "+ Make: The manufacturer of the vehicle.\n",
    "+ Model: The model of the vehicle.\n",
    "+ Electric Vehicle Type: The type of electric vehicle, e.g., Battery Electric Vehicle (BEV).\n",
    "+ Clean Alternative Fuel Vehicle (CAFV) Eligibility: Eligibility status for clean alternative fuel vehicle programs.\n",
    "+ Electric Range: The maximum range of the vehicle on a single charge (in miles).\n",
    "+ Base MSRP: The Manufacturer’s Suggested Retail Price.\n",
    "+ Legislative District: The legislative district where the vehicle is registered.\n",
    "+ DOL Vehicle ID: Department of Licensing Vehicle Identification.\n",
    "+ Vehicle Location: Geographic coordinates of the vehicle location.\n",
    "+ Electric Utility: The electric utility service provider for the vehicle’s location.\n",
    "+ 2020 Census Tract: The census tract for the vehicle’s location.\n",
    "\n",
    "The primary objective of this analysis is to leverage historical EV registration data to understand the current market penetration of EVs, predict future market growth, and identify key trends and factors driving market expansion. The specific goals include:\n",
    "\n",
    "+ Assess the historical growth trend of EV registrations.\n",
    "+ Forecast future EV registrations based on historical trends.\n",
    "+ Analyze the distribution of EV registrations across different models, makes, and geographical regions.\n",
    "+ Estimate the market size and growth potential of the EV market for upcoming years.\n",
    "+ Provide insights to support stakeholders in decision-making processes related to production, infrastructure planning, and policy formulation."
   ]
  },
  {
   "cell_type": "markdown",
   "id": "2a9d63f1",
   "metadata": {},
   "source": [
    "### importing the necessary Python libraries and the dataset"
   ]
  },
  {
   "cell_type": "code",
   "execution_count": 2,
   "id": "8eeb4ee5",
   "metadata": {},
   "outputs": [],
   "source": [
    "# importing the necessary Python libraries \n",
    "import pandas as pd\n",
    "import numpy as np\n",
    "import matplotlib.pyplot as plt\n",
    "import seaborn as sns"
   ]
  },
  {
   "cell_type": "code",
   "execution_count": 3,
   "id": "4acfce73",
   "metadata": {},
   "outputs": [
    {
     "data": {
      "text/html": [
       "<div>\n",
       "<style scoped>\n",
       "    .dataframe tbody tr th:only-of-type {\n",
       "        vertical-align: middle;\n",
       "    }\n",
       "\n",
       "    .dataframe tbody tr th {\n",
       "        vertical-align: top;\n",
       "    }\n",
       "\n",
       "    .dataframe thead th {\n",
       "        text-align: right;\n",
       "    }\n",
       "</style>\n",
       "<table border=\"1\" class=\"dataframe\">\n",
       "  <thead>\n",
       "    <tr style=\"text-align: right;\">\n",
       "      <th></th>\n",
       "      <th>VIN (1-10)</th>\n",
       "      <th>County</th>\n",
       "      <th>City</th>\n",
       "      <th>State</th>\n",
       "      <th>Postal Code</th>\n",
       "      <th>Model Year</th>\n",
       "      <th>Make</th>\n",
       "      <th>Model</th>\n",
       "      <th>Electric Vehicle Type</th>\n",
       "      <th>Clean Alternative Fuel Vehicle (CAFV) Eligibility</th>\n",
       "      <th>Electric Range</th>\n",
       "      <th>Base MSRP</th>\n",
       "      <th>Legislative District</th>\n",
       "      <th>DOL Vehicle ID</th>\n",
       "      <th>Vehicle Location</th>\n",
       "      <th>Electric Utility</th>\n",
       "      <th>2020 Census Tract</th>\n",
       "    </tr>\n",
       "  </thead>\n",
       "  <tbody>\n",
       "    <tr>\n",
       "      <th>0</th>\n",
       "      <td>5YJYGDEE1L</td>\n",
       "      <td>King</td>\n",
       "      <td>Seattle</td>\n",
       "      <td>WA</td>\n",
       "      <td>98122.0</td>\n",
       "      <td>2020</td>\n",
       "      <td>TESLA</td>\n",
       "      <td>MODEL Y</td>\n",
       "      <td>Battery Electric Vehicle (BEV)</td>\n",
       "      <td>Clean Alternative Fuel Vehicle Eligible</td>\n",
       "      <td>291</td>\n",
       "      <td>0</td>\n",
       "      <td>37.0</td>\n",
       "      <td>125701579</td>\n",
       "      <td>POINT (-122.30839 47.610365)</td>\n",
       "      <td>CITY OF SEATTLE - (WA)|CITY OF TACOMA - (WA)</td>\n",
       "      <td>5.303301e+10</td>\n",
       "    </tr>\n",
       "    <tr>\n",
       "      <th>1</th>\n",
       "      <td>7SAYGDEE9P</td>\n",
       "      <td>Snohomish</td>\n",
       "      <td>Bothell</td>\n",
       "      <td>WA</td>\n",
       "      <td>98021.0</td>\n",
       "      <td>2023</td>\n",
       "      <td>TESLA</td>\n",
       "      <td>MODEL Y</td>\n",
       "      <td>Battery Electric Vehicle (BEV)</td>\n",
       "      <td>Eligibility unknown as battery range has not b...</td>\n",
       "      <td>0</td>\n",
       "      <td>0</td>\n",
       "      <td>1.0</td>\n",
       "      <td>244285107</td>\n",
       "      <td>POINT (-122.179458 47.802589)</td>\n",
       "      <td>PUGET SOUND ENERGY INC</td>\n",
       "      <td>5.306105e+10</td>\n",
       "    </tr>\n",
       "    <tr>\n",
       "      <th>2</th>\n",
       "      <td>5YJSA1E4XK</td>\n",
       "      <td>King</td>\n",
       "      <td>Seattle</td>\n",
       "      <td>WA</td>\n",
       "      <td>98109.0</td>\n",
       "      <td>2019</td>\n",
       "      <td>TESLA</td>\n",
       "      <td>MODEL S</td>\n",
       "      <td>Battery Electric Vehicle (BEV)</td>\n",
       "      <td>Clean Alternative Fuel Vehicle Eligible</td>\n",
       "      <td>270</td>\n",
       "      <td>0</td>\n",
       "      <td>36.0</td>\n",
       "      <td>156773144</td>\n",
       "      <td>POINT (-122.34848 47.632405)</td>\n",
       "      <td>CITY OF SEATTLE - (WA)|CITY OF TACOMA - (WA)</td>\n",
       "      <td>5.303301e+10</td>\n",
       "    </tr>\n",
       "    <tr>\n",
       "      <th>3</th>\n",
       "      <td>5YJSA1E27G</td>\n",
       "      <td>King</td>\n",
       "      <td>Issaquah</td>\n",
       "      <td>WA</td>\n",
       "      <td>98027.0</td>\n",
       "      <td>2016</td>\n",
       "      <td>TESLA</td>\n",
       "      <td>MODEL S</td>\n",
       "      <td>Battery Electric Vehicle (BEV)</td>\n",
       "      <td>Clean Alternative Fuel Vehicle Eligible</td>\n",
       "      <td>210</td>\n",
       "      <td>0</td>\n",
       "      <td>5.0</td>\n",
       "      <td>165103011</td>\n",
       "      <td>POINT (-122.03646 47.534065)</td>\n",
       "      <td>PUGET SOUND ENERGY INC||CITY OF TACOMA - (WA)</td>\n",
       "      <td>5.303303e+10</td>\n",
       "    </tr>\n",
       "    <tr>\n",
       "      <th>4</th>\n",
       "      <td>5YJYGDEE5M</td>\n",
       "      <td>Kitsap</td>\n",
       "      <td>Suquamish</td>\n",
       "      <td>WA</td>\n",
       "      <td>98392.0</td>\n",
       "      <td>2021</td>\n",
       "      <td>TESLA</td>\n",
       "      <td>MODEL Y</td>\n",
       "      <td>Battery Electric Vehicle (BEV)</td>\n",
       "      <td>Eligibility unknown as battery range has not b...</td>\n",
       "      <td>0</td>\n",
       "      <td>0</td>\n",
       "      <td>23.0</td>\n",
       "      <td>205138552</td>\n",
       "      <td>POINT (-122.55717 47.733415)</td>\n",
       "      <td>PUGET SOUND ENERGY INC</td>\n",
       "      <td>5.303594e+10</td>\n",
       "    </tr>\n",
       "  </tbody>\n",
       "</table>\n",
       "</div>"
      ],
      "text/plain": [
       "   VIN (1-10)     County       City State  Postal Code  Model Year   Make  \\\n",
       "0  5YJYGDEE1L       King    Seattle    WA      98122.0        2020  TESLA   \n",
       "1  7SAYGDEE9P  Snohomish    Bothell    WA      98021.0        2023  TESLA   \n",
       "2  5YJSA1E4XK       King    Seattle    WA      98109.0        2019  TESLA   \n",
       "3  5YJSA1E27G       King   Issaquah    WA      98027.0        2016  TESLA   \n",
       "4  5YJYGDEE5M     Kitsap  Suquamish    WA      98392.0        2021  TESLA   \n",
       "\n",
       "     Model           Electric Vehicle Type  \\\n",
       "0  MODEL Y  Battery Electric Vehicle (BEV)   \n",
       "1  MODEL Y  Battery Electric Vehicle (BEV)   \n",
       "2  MODEL S  Battery Electric Vehicle (BEV)   \n",
       "3  MODEL S  Battery Electric Vehicle (BEV)   \n",
       "4  MODEL Y  Battery Electric Vehicle (BEV)   \n",
       "\n",
       "   Clean Alternative Fuel Vehicle (CAFV) Eligibility  Electric Range  \\\n",
       "0            Clean Alternative Fuel Vehicle Eligible             291   \n",
       "1  Eligibility unknown as battery range has not b...               0   \n",
       "2            Clean Alternative Fuel Vehicle Eligible             270   \n",
       "3            Clean Alternative Fuel Vehicle Eligible             210   \n",
       "4  Eligibility unknown as battery range has not b...               0   \n",
       "\n",
       "   Base MSRP  Legislative District  DOL Vehicle ID  \\\n",
       "0          0                  37.0       125701579   \n",
       "1          0                   1.0       244285107   \n",
       "2          0                  36.0       156773144   \n",
       "3          0                   5.0       165103011   \n",
       "4          0                  23.0       205138552   \n",
       "\n",
       "                Vehicle Location  \\\n",
       "0   POINT (-122.30839 47.610365)   \n",
       "1  POINT (-122.179458 47.802589)   \n",
       "2   POINT (-122.34848 47.632405)   \n",
       "3   POINT (-122.03646 47.534065)   \n",
       "4   POINT (-122.55717 47.733415)   \n",
       "\n",
       "                                Electric Utility  2020 Census Tract  \n",
       "0   CITY OF SEATTLE - (WA)|CITY OF TACOMA - (WA)       5.303301e+10  \n",
       "1                         PUGET SOUND ENERGY INC       5.306105e+10  \n",
       "2   CITY OF SEATTLE - (WA)|CITY OF TACOMA - (WA)       5.303301e+10  \n",
       "3  PUGET SOUND ENERGY INC||CITY OF TACOMA - (WA)       5.303303e+10  \n",
       "4                         PUGET SOUND ENERGY INC       5.303594e+10  "
      ]
     },
     "execution_count": 3,
     "metadata": {},
     "output_type": "execute_result"
    }
   ],
   "source": [
    "# import the dataset\n",
    "ev_data = pd.read_csv('Electric_Vehicle_population_Data.csv')\n",
    "ev_data.head()"
   ]
  },
  {
   "cell_type": "code",
   "execution_count": 4,
   "id": "70aef12e",
   "metadata": {},
   "outputs": [],
   "source": [
    "s# make a copy of the datsset\n",
    "ev_data_or = ev_data.copy()"
   ]
  },
  {
   "cell_type": "markdown",
   "id": "4f96e78e",
   "metadata": {},
   "source": [
    "### Data Cleaning\n",
    "\n",
    "There null vlaues in columns like **Legislative District, County, City, Vehicle Location** etc. These rows will be dropped as they constitute a small fraction of the total data and would not in any way affect our analysis\n",
    "\n",
    "There are no duplicate data in the dataset"
   ]
  },
  {
   "cell_type": "code",
   "execution_count": 5,
   "id": "72d2efec",
   "metadata": {},
   "outputs": [
    {
     "name": "stdout",
     "output_type": "stream",
     "text": [
      "<class 'pandas.core.frame.DataFrame'>\n",
      "RangeIndex: 177866 entries, 0 to 177865\n",
      "Data columns (total 17 columns):\n",
      " #   Column                                             Non-Null Count   Dtype  \n",
      "---  ------                                             --------------   -----  \n",
      " 0   VIN (1-10)                                         177866 non-null  object \n",
      " 1   County                                             177861 non-null  object \n",
      " 2   City                                               177861 non-null  object \n",
      " 3   State                                              177866 non-null  object \n",
      " 4   Postal Code                                        177861 non-null  float64\n",
      " 5   Model Year                                         177866 non-null  int64  \n",
      " 6   Make                                               177866 non-null  object \n",
      " 7   Model                                              177866 non-null  object \n",
      " 8   Electric Vehicle Type                              177866 non-null  object \n",
      " 9   Clean Alternative Fuel Vehicle (CAFV) Eligibility  177866 non-null  object \n",
      " 10  Electric Range                                     177866 non-null  int64  \n",
      " 11  Base MSRP                                          177866 non-null  int64  \n",
      " 12  Legislative District                               177477 non-null  float64\n",
      " 13  DOL Vehicle ID                                     177866 non-null  int64  \n",
      " 14  Vehicle Location                                   177857 non-null  object \n",
      " 15  Electric Utility                                   177861 non-null  object \n",
      " 16  2020 Census Tract                                  177861 non-null  float64\n",
      "dtypes: float64(3), int64(4), object(10)\n",
      "memory usage: 23.1+ MB\n"
     ]
    }
   ],
   "source": [
    "# check data info\n",
    "ev_data_or.info()"
   ]
  },
  {
   "cell_type": "code",
   "execution_count": 6,
   "id": "31c9157b",
   "metadata": {},
   "outputs": [
    {
     "data": {
      "text/plain": [
       "VIN (1-10)                                             0\n",
       "County                                                 5\n",
       "City                                                   5\n",
       "State                                                  0\n",
       "Postal Code                                            5\n",
       "Model Year                                             0\n",
       "Make                                                   0\n",
       "Model                                                  0\n",
       "Electric Vehicle Type                                  0\n",
       "Clean Alternative Fuel Vehicle (CAFV) Eligibility      0\n",
       "Electric Range                                         0\n",
       "Base MSRP                                              0\n",
       "Legislative District                                 389\n",
       "DOL Vehicle ID                                         0\n",
       "Vehicle Location                                       9\n",
       "Electric Utility                                       5\n",
       "2020 Census Tract                                      5\n",
       "dtype: int64"
      ]
     },
     "execution_count": 6,
     "metadata": {},
     "output_type": "execute_result"
    }
   ],
   "source": [
    "#Check number of null value sper column\n",
    "ev_data_or.isnull().sum()"
   ]
  },
  {
   "cell_type": "code",
   "execution_count": 8,
   "id": "e36b7f6b",
   "metadata": {},
   "outputs": [],
   "source": [
    "# drop the null values\n",
    "ev_data_or = ev_data_or.dropna()"
   ]
  },
  {
   "cell_type": "code",
   "execution_count": 10,
   "id": "9eb500a6",
   "metadata": {},
   "outputs": [
    {
     "data": {
      "text/plain": [
       "0"
      ]
     },
     "execution_count": 10,
     "metadata": {},
     "output_type": "execute_result"
    }
   ],
   "source": [
    "# check for duplicated data\n",
    "ev_data_or.duplicated().sum()"
   ]
  },
  {
   "cell_type": "markdown",
   "id": "cb8f4be4",
   "metadata": {},
   "source": [
    "For the task of market size of electric vehicles analysis, we can explore the following areas:\n",
    "\n",
    "+ EV Adoption Over Time: Analyze the growth of the EV population by model year.\n",
    "+ Geographical Distribution: Understand where EVs are most commonly registered (e.g., by county or city).\n",
    "+ EV Types: Breakdown of the dataset by electric vehicle type (BEV, etc.).\n",
    "+ Make and Model Popularity: Identify the most popular makes and models among the registered EVs.\n",
    "+ Electric Range Analysis: Analyze the electric range of vehicles to see how EV technology is progressing.\n",
    "+ Estimated Growth in Market Size: Analyze and find the estimated growth in the market size of electric vehicles.\n",
    "\n"
   ]
  },
  {
   "cell_type": "markdown",
   "id": "30f11036",
   "metadata": {},
   "source": [
    "## Analysis\n",
    "\n",
    "### 1. Analyzing the EV Adoption Over Time by visualizing the number of EVs registered by model year. It will give us an insight into how the EV population has grown over the years:\n",
    "\n",
    "From the bar chart below, it’s clear that EV adoption has been increasing over time, especially noting a significant upward trend starting around 2016. The number of vehicles registered grows modestly up until that point and then begins to rise more rapidly from 2017 onwards. The year 2023 shows a particularly sharp increase in the number of registered EVs, with the bar for 2023 being the highest on the graph, indicating a peak in EV adoption.\n"
   ]
  },
  {
   "cell_type": "code",
   "execution_count": null,
   "id": "c81c3d71",
   "metadata": {},
   "outputs": [],
   "source": [
    "sns.set_style('whitegrid')\n",
    "\n",
    "# plot ev adoption over time\n",
    "plt.figure(figsize = (12, 6))\n",
    "ev_adoption_by_year = ev_data_or['Model Year'].value_counts().sort_index()\n",
    "sns.barplot(x = ev_adoption_by_year.index, y = ev_adoption_by_year.values, \n",
    "           palette='viridis')\n",
    "plt.title('EV Adptio Over Time')\n",
    "plt.xlabel('Model Year')\n",
    "plt.ylabel('Number of Vehicles Registered')\n",
    "plt.xticks(rotation = 45)\n",
    "plt.tight_layout()\n",
    "plt.show()"
   ]
  },
  {
   "cell_type": "markdown",
   "id": "f06c7fb5",
   "metadata": {},
   "source": [
    "### 2. Top 3 Counties Based on EV Registration\n",
    "\n",
    "Now, let’s start by selecting the top 3 counties based on EV registrations and then analyze the distribution of EVs within the cities of those counties:"
   ]
  },
  {
   "cell_type": "code",
   "execution_count": 16,
   "id": "f75bcef4",
   "metadata": {},
   "outputs": [
    {
     "data": {
      "image/png": "[encoded data removed]",
      "text/plain": [
       "<Figure size 1200x800 with 1 Axes>"
      ]
     },
     "metadata": {},
     "output_type": "display_data"
    }
   ],
   "source": [
    "# geographical Distribution at county level\n",
    "ev_county_distribution = ev_data_or['County'].value_counts()\n",
    "top_counties = ev_county_distribution.head(3).index\n",
    "\n",
    "# Filtering the dataset for these top countries\n",
    "top_counties_data = ev_data_or[ev_data_or['County'].isin(top_counties)]\n",
    "\n",
    "# analyzing the distribution of EVs within the cities of these top counties\n",
    "ev_city_distribution_top_counties = top_counties_data.groupby(['County', 'City']).size().sort_values(ascending = False)\\\n",
    "                                    .reset_index(name = 'Number of Vehicles')\n",
    "\n",
    "# Visualize the top 10 cities across these counties\n",
    "top_cities = ev_city_distribution_top_counties.head(10)\n",
    "\n",
    "#plot the distribution\n",
    "plt.figure(figsize=(12, 8))\n",
    "sns.barplot(x = 'Number of Vehicles', y = 'City', \n",
    "           hue = 'County', data = top_cities,\n",
    "           palette='magma')\n",
    "plt.title('Top Cities in Top Counties by EV Registration')\n",
    "plt.xlabel('Number of Vehicles')\n",
    "plt.ylabel('City')\n",
    "plt.legend(title = 'County' )\n",
    "plt.tight_layout()\n",
    "plt.show()"
   ]
  },
  {
   "cell_type": "code",
   "execution_count": null,
   "id": "a2454ff9",
   "metadata": {},
   "outputs": [],
   "source": []
  }
 ],
 "metadata": {
  "kernelspec": {
   "display_name": "Python 3 (ipykernel)",
   "language": "python",
   "name": "python3"
  },
  "language_info": {
   "codemirror_mode": {
    "name": "ipython",
    "version": 3
   },
   "file_extension": ".py",
   "mimetype": "text/x-python",
   "name": "python",
   "nbconvert_exporter": "python",
   "pygments_lexer": "ipython3",
   "version": "3.10.9"
  }
 },
 "nbformat": 4,
 "nbformat_minor": 5
}
